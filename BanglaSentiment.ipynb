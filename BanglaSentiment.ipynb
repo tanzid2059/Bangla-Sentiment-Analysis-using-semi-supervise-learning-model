{
  "nbformat": 4,
  "nbformat_minor": 0,
  "metadata": {
    "colab": {
      "name": "BanglaSentiment.ipynb",
      "provenance": [],
      "authorship_tag": "ABX9TyNZDvr5nzKOCEnp69t06k0l",
      "include_colab_link": true
    },
    "kernelspec": {
      "name": "python3",
      "display_name": "Python 3"
    },
    "language_info": {
      "name": "python"
    }
  },
  "cells": [
    {
      "cell_type": "markdown",
      "metadata": {
        "id": "view-in-github",
        "colab_type": "text"
      },
      "source": [
        "<a href=\"https://colab.research.google.com/github/tanzid2059/Bangla-Sentiment-Analysis-using-semi-supervise-learning-model/blob/main/BanglaSentiment.ipynb\" target=\"_parent\"><img src=\"https://colab.research.google.com/assets/colab-badge.svg\" alt=\"Open In Colab\"/></a>"
      ]
    },
    {
      "cell_type": "code",
      "metadata": {
        "id": "MHo933R-kddu"
      },
      "source": [
        "import pandas as pd\n",
        "import numpy as np\n",
        "import random\n",
        "import csv\n",
        "from sklearn.decomposition import PCA"
      ],
      "execution_count": null,
      "outputs": []
    },
    {
      "cell_type": "code",
      "metadata": {
        "colab": {
          "base_uri": "https://localhost:8080/"
        },
        "id": "OKJJxx4ofdyZ",
        "outputId": "ba33e31f-750a-48f8-d269-ddec14f36e2f"
      },
      "source": [
        "!pip install -q wordcloud\n",
        "import wordcloud\n",
        "\n",
        "import nltk\n",
        "nltk.download('stopwords')\n",
        "nltk.download('wordnet')\n",
        "nltk.download('punkt')\n",
        "nltk.download('averaged_perceptron_tagger') "
      ],
      "execution_count": null,
      "outputs": [
        {
          "output_type": "stream",
          "text": [
            "[nltk_data] Downloading package stopwords to /root/nltk_data...\n",
            "[nltk_data]   Unzipping corpora/stopwords.zip.\n",
            "[nltk_data] Downloading package wordnet to /root/nltk_data...\n",
            "[nltk_data]   Unzipping corpora/wordnet.zip.\n",
            "[nltk_data] Downloading package punkt to /root/nltk_data...\n",
            "[nltk_data]   Unzipping tokenizers/punkt.zip.\n",
            "[nltk_data] Downloading package averaged_perceptron_tagger to\n",
            "[nltk_data]     /root/nltk_data...\n",
            "[nltk_data]   Unzipping taggers/averaged_perceptron_tagger.zip.\n"
          ],
          "name": "stdout"
        },
        {
          "output_type": "execute_result",
          "data": {
            "text/plain": [
              "True"
            ]
          },
          "metadata": {
            "tags": []
          },
          "execution_count": 115
        }
      ]
    },
    {
      "cell_type": "code",
      "metadata": {
        "colab": {
          "base_uri": "https://localhost:8080/"
        },
        "id": "1g9W0c7Xgirr",
        "outputId": "637b714a-3ca3-49d6-fc63-e0ee0b027df1"
      },
      "source": [
        "pip install bangla-stemmer"
      ],
      "execution_count": null,
      "outputs": [
        {
          "output_type": "stream",
          "text": [
            "Collecting bangla-stemmer\n",
            "  Downloading https://files.pythonhosted.org/packages/0b/94/43286b4f9948268e0468d6203a1a1ad6f2ccb2273b7d952daf99413d67e5/bangla_stemmer-1.0-py3-none-any.whl\n",
            "Installing collected packages: bangla-stemmer\n",
            "Successfully installed bangla-stemmer-1.0\n"
          ],
          "name": "stdout"
        }
      ]
    },
    {
      "cell_type": "code",
      "metadata": {
        "id": "GK2KlWB-fedW"
      },
      "source": [
        "import matplotlib.pyplot as plt\n",
        "import io\n",
        "import unicodedata\n",
        "import re\n",
        "import string"
      ],
      "execution_count": null,
      "outputs": []
    },
    {
      "cell_type": "code",
      "metadata": {
        "colab": {
          "resources": {
            "http://localhost:8080/nbextensions/google.colab/files.js": {
              "data": "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",
              "ok": true,
              "headers": [
                [
                  "content-type",
                  "application/javascript"
                ]
              ],
              "status": 200,
              "status_text": ""
            }
          },
          "base_uri": "https://localhost:8080/",
          "height": 72
        },
        "id": "E9zVTi9qkfzs",
        "outputId": "18344283-a59e-4300-d378-0636b771b25f"
      },
      "source": [
        "from google.colab import files\n",
        "uploaded=files.upload()"
      ],
      "execution_count": null,
      "outputs": [
        {
          "output_type": "display_data",
          "data": {
            "text/html": [
              "\n",
              "     <input type=\"file\" id=\"files-b9c187bb-8a46-4dae-9490-dc616c274240\" name=\"files[]\" multiple disabled\n",
              "        style=\"border:none\" />\n",
              "     <output id=\"result-b9c187bb-8a46-4dae-9490-dc616c274240\">\n",
              "      Upload widget is only available when the cell has been executed in the\n",
              "      current browser session. Please rerun this cell to enable.\n",
              "      </output>\n",
              "      <script src=\"/nbextensions/google.colab/files.js\"></script> "
            ],
            "text/plain": [
              "<IPython.core.display.HTML object>"
            ]
          },
          "metadata": {
            "tags": []
          }
        },
        {
          "output_type": "stream",
          "text": [
            "Saving 1.txt to 1.txt\n"
          ],
          "name": "stdout"
        }
      ]
    },
    {
      "cell_type": "code",
      "metadata": {
        "id": "Z7FNi9Vykoso"
      },
      "source": [
        "unlabel_data=pd.read_csv(\"/content/unlabel data.txt\",sep=\"\\t\",names=['Bangla_Sentences'])"
      ],
      "execution_count": null,
      "outputs": []
    },
    {
      "cell_type": "code",
      "metadata": {
        "colab": {
          "base_uri": "https://localhost:8080/",
          "height": 359
        },
        "id": "zUB5r8MVNqL1",
        "outputId": "5213dce6-062f-4aee-ad44-5989a7e2ceb4"
      },
      "source": [
        "unlabel_data.head(10)"
      ],
      "execution_count": null,
      "outputs": [
        {
          "output_type": "execute_result",
          "data": {
            "text/html": [
              "<div>\n",
              "<style scoped>\n",
              "    .dataframe tbody tr th:only-of-type {\n",
              "        vertical-align: middle;\n",
              "    }\n",
              "\n",
              "    .dataframe tbody tr th {\n",
              "        vertical-align: top;\n",
              "    }\n",
              "\n",
              "    .dataframe thead th {\n",
              "        text-align: right;\n",
              "    }\n",
              "</style>\n",
              "<table border=\"1\" class=\"dataframe\">\n",
              "  <thead>\n",
              "    <tr style=\"text-align: right;\">\n",
              "      <th></th>\n",
              "      <th>Bangla_Sentences</th>\n",
              "    </tr>\n",
              "  </thead>\n",
              "  <tbody>\n",
              "    <tr>\n",
              "      <th>0</th>\n",
              "      <td>সে ঘুরে ল্যাংডনের চোখের দিকে তাকায়।</td>\n",
              "    </tr>\n",
              "    <tr>\n",
              "      <th>1</th>\n",
              "      <td>সব মানুষের মধ্যে সমতা আনতে হলে কারও না কারও স্...</td>\n",
              "    </tr>\n",
              "    <tr>\n",
              "      <th>2</th>\n",
              "      <td>যাই জিজ্ঞেস কর না কেন, সব প্রশ্নের জবাব দিব ডি...</td>\n",
              "    </tr>\n",
              "    <tr>\n",
              "      <th>3</th>\n",
              "      <td>ঠিক যখন আমি সভাকে শুভরাত জানিয়ে বিদায় নিতে উদ্...</td>\n",
              "    </tr>\n",
              "    <tr>\n",
              "      <th>4</th>\n",
              "      <td>যেতে দিন!</td>\n",
              "    </tr>\n",
              "    <tr>\n",
              "      <th>5</th>\n",
              "      <td>এবার ক্যামারলেনগো ঘুরে দাঁড়াল আবার, তাকাল অন্য...</td>\n",
              "    </tr>\n",
              "    <tr>\n",
              "      <th>6</th>\n",
              "      <td>তাদের ট্যাক্সি এখন কোথায়?</td>\n",
              "    </tr>\n",
              "    <tr>\n",
              "      <th>7</th>\n",
              "      <td>বেশিরভাগ গবেষকই মনে করেন যে, এতসব গুরুত্বপূর্ণ...</td>\n",
              "    </tr>\n",
              "    <tr>\n",
              "      <th>8</th>\n",
              "      <td>দশকের পর দশক ধরে এসব প্রাণীর জীবাশ্ম আর দেহাবশ...</td>\n",
              "    </tr>\n",
              "    <tr>\n",
              "      <th>9</th>\n",
              "      <td>এটা প্রাপ্ত বয়স্কদের জন্য এক রকমের স্কুলও বলা ...</td>\n",
              "    </tr>\n",
              "  </tbody>\n",
              "</table>\n",
              "</div>"
            ],
            "text/plain": [
              "                                    Bangla_Sentences\n",
              "0                সে ঘুরে ল্যাংডনের চোখের দিকে তাকায়।\n",
              "1  সব মানুষের মধ্যে সমতা আনতে হলে কারও না কারও স্...\n",
              "2  যাই জিজ্ঞেস কর না কেন, সব প্রশ্নের জবাব দিব ডি...\n",
              "3  ঠিক যখন আমি সভাকে শুভরাত জানিয়ে বিদায় নিতে উদ্...\n",
              "4                                          যেতে দিন!\n",
              "5  এবার ক্যামারলেনগো ঘুরে দাঁড়াল আবার, তাকাল অন্য...\n",
              "6                          তাদের ট্যাক্সি এখন কোথায়?\n",
              "7  বেশিরভাগ গবেষকই মনে করেন যে, এতসব গুরুত্বপূর্ণ...\n",
              "8  দশকের পর দশক ধরে এসব প্রাণীর জীবাশ্ম আর দেহাবশ...\n",
              "9  এটা প্রাপ্ত বয়স্কদের জন্য এক রকমের স্কুলও বলা ..."
            ]
          },
          "metadata": {
            "tags": []
          },
          "execution_count": 116
        }
      ]
    },
    {
      "cell_type": "code",
      "metadata": {
        "id": "t5YTZxC_SkI2"
      },
      "source": [
        "#from sklearn.model_selection import train_test_split\n",
        "\n",
        "#train_data,test_data=train_test_split(data,test_size=0.2, random_state=1)"
      ],
      "execution_count": null,
      "outputs": []
    },
    {
      "cell_type": "markdown",
      "metadata": {
        "id": "4tFC7OJt-OD1"
      },
      "source": [
        "# **Pre-Processing Functions**"
      ]
    },
    {
      "cell_type": "code",
      "metadata": {
        "id": "G9w5vrNQ-LJ1"
      },
      "source": [
        "def cleanDataset(src_path, des_path):\n",
        "  sentences = []\n",
        "  # Using readline() \n",
        "  count = 0\n",
        "  with open(src_path,'r',encoding = 'utf-8') as f:\n",
        "    for line in f:\n",
        "      if len(line) >1 :      \n",
        "        count += 1\n",
        "        sentences.append(line)\n",
        "  \n",
        "  l = process(sentences)\n",
        "  # print(l[0:10])\n",
        "  f = open(des_path, \"a\")\n",
        "  for s in l:\n",
        "    f.write(s+\"\\n\")\n",
        "  f.close()"
      ],
      "execution_count": null,
      "outputs": []
    },
    {
      "cell_type": "code",
      "metadata": {
        "id": "JzlCjSsO-YKh"
      },
      "source": [
        "def process(sentences):\n",
        "    \n",
        "  l=[]\n",
        "  numOfConsecutiveSentence = 2\n",
        "  minWordLimit = 3 #including ?,|,!\n",
        "  maxWordLimit = 15 #including ?,|,!\n",
        "  kk = 0\n",
        "  for text in sentences:\n",
        "    kk+=1\n",
        "    c = 0\n",
        "    s = \"\"\n",
        "    mergedSentecnes = \"\"\n",
        "    oneSetenceFound = False\n",
        "    numOfSentenceMerged = 0\n",
        "    for i  in  range(0,len(text)):\n",
        "      \n",
        "      # removes starting spaces\n",
        "      if len(s) == 0 and text[i] == ' ':\n",
        "        continue\n",
        "\n",
        "      # replace charcter with ' ' if character is not bangla character or number\n",
        "      if text[i] == '-' or text[i] == ':' or text[i] == '/' : \n",
        "        if len(s) > 1 and i < len(text)-1:\n",
        "          if isOkkhor(s[len(s)-1]) and isOkkhor(text[i+1]):\n",
        "            s += ' '\n",
        "      # if charcter is bangla character or number or ' '\n",
        "      elif isCorrect(text[i]):\n",
        "        if len(s) > 1 and text[i] == ' ': # remove consecutive space\n",
        "          if s[len(s)-1] == ' ': \n",
        "            continue\n",
        "        # end of a sentece \n",
        "        if text[i] == '।' or text[i] == '?' or text[i] == '!':\n",
        "          if len(s) == 0:\n",
        "            continue\n",
        "          c+=1\n",
        "          oneSetenceFound = True\n",
        "          # add space before ?,!,। \n",
        "          \n",
        "          if s[len(s)-1] != ' ':\n",
        "            s += ' ' \n",
        "\n",
        "        s += text[i]\n",
        "\n",
        "      if oneSetenceFound:\n",
        "        oneSetenceFound = False\n",
        "        wordCount= countW(s)\n",
        "        if wordCount > minWordLimit-1 and wordCount < maxWordLimit:\n",
        "          # add space after previous sentence\n",
        "          if numOfSentenceMerged > 0:\n",
        "            mergedSentecnes += (' ' + s)\n",
        "          else:\n",
        "            mergedSentecnes += s\n",
        "          s = \"\"\n",
        "          numOfSentenceMerged += 1\n",
        "          # if sentece violates word limit ignore all merged sentence\n",
        "        else:\n",
        "          mergedSentecnes = \"\"\n",
        "          s = \"\"\n",
        "          numOfSentenceMerged = 0\n",
        "      \n",
        "      if numOfSentenceMerged == numOfConsecutiveSentence:\n",
        "\n",
        "        c = 0\n",
        "        numOfSentenceMerged = 0 \n",
        "        mergedSentecnes = replaceNumber(mergedSentecnes)\n",
        "        l.append(mergedSentecnes)\n",
        "        mergedSentecnes = \"\"\n",
        "        s = \"\"\n",
        "  return l"
      ],
      "execution_count": null,
      "outputs": []
    },
    {
      "cell_type": "code",
      "metadata": {
        "id": "vCmBunRL-j3e"
      },
      "source": [
        "def replaceNumber(s):\n",
        "   bangla_number = ['১', '২', '৩', '৪', '৫', '৬', '৭', '৮', '৯', '০']\n",
        "   newSentence = \"\"\n",
        "   flag = False\n",
        "   for i in range(0,len(s)):\n",
        "     if s[i] in bangla_number and not flag:\n",
        "       flag = True\n",
        "      #  print(newSentence)\n",
        "       if len(newSentence) == 0:\n",
        "        newSentence += \"11111111\"\n",
        "       elif newSentence[len(newSentence)-1] != ' ':\n",
        "         newSentence += \" 11111111\"\n",
        "       else:\n",
        "         newSentence += \"11111111\"\n",
        "     elif s[i] not in bangla_number:\n",
        "       if i>0 and newSentence[len(newSentence)-1] == '1' and s[i] != ' ':\n",
        "         newSentence += ' '\n",
        "       flag = False\n",
        "       newSentence += s[i]\n",
        "   return newSentence"
      ],
      "execution_count": null,
      "outputs": []
    },
    {
      "cell_type": "code",
      "metadata": {
        "id": "QcX6-4IW-nJn"
      },
      "source": [
        "def countW(s):\n",
        "  c = 0\n",
        "  c1 = 0\n",
        "  first_sen = False\n",
        "  for i in range(0,len(s)):\n",
        "    if s[i] == ' ':\n",
        "      c+=1\n",
        "    \n",
        "    if s[i] == '।' or s[i] == '?' or s[i] == '!':\n",
        "      \n",
        "      if s[i-1] != ' ':\n",
        "        c+=1 \n",
        "\n",
        "  return (c)"
      ],
      "execution_count": null,
      "outputs": []
    },
    {
      "cell_type": "code",
      "metadata": {
        "id": "a3VACeeS-qzZ"
      },
      "source": [
        "def isCorrect(h):\n",
        "  dic_char = ['া','র','ে','্','ি','ন','ক', 'ব', 'ত','স', 'ল', 'ম', 'প', 'ু', 'দ', 'য়', 'ট', 'জ', 'য', 'ো', 'শ','গ','হ','ই','ী', 'চ', 'ভ','ছ', 'আ', 'ষ', 'অ', 'ধ', 'খ',\n",
        "              'ড', 'ও', 'ফ', 'ড়','উ','ণ','থ', 'ং','এ', 'ঁ', 'ূ', 'ঠ','ৃ','ঘ','ঞ','ঙ','়','ঝ','ৌ','ৎ','ৈ','ঢ','ঃ','ৗ','ঈ','ঐ','ঋ','ঢ়','ঊ','ঔ',\n",
        "              '।','?','!',' ', '২','০','১','৯','৫','৭','৩','৪','৮','৬',' ']\n",
        "  if h not in dic_char:\n",
        "    return False\n",
        "  else:\n",
        "    return True"
      ],
      "execution_count": null,
      "outputs": []
    },
    {
      "cell_type": "code",
      "metadata": {
        "id": "JtREoe9__Tlb"
      },
      "source": [
        "def isOkkhor(h):\n",
        "  dic_char = ['া','র','ে','্','ি','ন','ক', 'ব', 'ত','স', 'ল', 'ম', 'প', 'ু', 'দ', 'য়', 'ট', 'জ', 'য', 'ো','শ','গ','হ','ই','ী', 'চ', 'ভ','ছ', 'আ','ষ','অ','ধ','খ',\n",
        "              'ড','ও','ফ','ড়','উ','ণ','থ','ং','এ','ঁ','ূ','ঠ','ৃ','ঘ','ঞ','ঙ','়','ঝ','ৌ','ৎ','ৈ','ঢ','ঃ','ৗ','ঈ','ঐ','ঋ','ঢ়','ঊ','ঔ',]\n",
        "  if h not in dic_char:\n",
        "    return False\n",
        "  else:\n",
        "    return True"
      ],
      "execution_count": null,
      "outputs": []
    },
    {
      "cell_type": "code",
      "metadata": {
        "id": "qEcyIHFT_koZ"
      },
      "source": [
        "src_path='/content/all_negative.txt'\n",
        "des_path='/content/processed_all_negative.txt'\n",
        "cleanDataset(src_path=src_path, des_path=des_path)\n",
        "\n",
        "src_path='/content/all_positive.txt'\n",
        "des_path='/content/processed_all_positive.txt'\n",
        "cleanDataset(src_path=src_path, des_path=des_path)\n",
        "\n",
        "src_path='/content/unlabel data.txt'\n",
        "des_path='/content/processed_unlabel_data.txt'\n",
        "cleanDataset(src_path=src_path, des_path=des_path)"
      ],
      "execution_count": null,
      "outputs": []
    },
    {
      "cell_type": "code",
      "metadata": {
        "id": "te761HjpDkzS"
      },
      "source": [
        "processed_neg=pd.read_csv(\"/content/processed_all_negative.txt\",sep=\"\\t\",names=['Processed_Bangla_Sentences'])\n",
        "processed_pos=pd.read_csv(\"/content/processed_all_positive.txt\",sep=\"\\t\",names=['Processed_Bangla_Sentences'])"
      ],
      "execution_count": null,
      "outputs": []
    },
    {
      "cell_type": "code",
      "metadata": {
        "id": "caeSverEfQUV",
        "colab": {
          "base_uri": "https://localhost:8080/",
          "height": 359
        },
        "outputId": "6391798e-5340-4ddb-ca67-e7457991e307"
      },
      "source": [
        "label_pos_data.shape\n",
        "\n",
        "pos_sentiment=[1]*2000\n",
        "\n",
        "label_pos_data['sentiment']=pos_sentiment\n",
        "label_pos_data.head(10)"
      ],
      "execution_count": null,
      "outputs": [
        {
          "output_type": "execute_result",
          "data": {
            "text/html": [
              "<div>\n",
              "<style scoped>\n",
              "    .dataframe tbody tr th:only-of-type {\n",
              "        vertical-align: middle;\n",
              "    }\n",
              "\n",
              "    .dataframe tbody tr th {\n",
              "        vertical-align: top;\n",
              "    }\n",
              "\n",
              "    .dataframe thead th {\n",
              "        text-align: right;\n",
              "    }\n",
              "</style>\n",
              "<table border=\"1\" class=\"dataframe\">\n",
              "  <thead>\n",
              "    <tr style=\"text-align: right;\">\n",
              "      <th></th>\n",
              "      <th>Bangla_Sentences</th>\n",
              "      <th>sentiment</th>\n",
              "    </tr>\n",
              "  </thead>\n",
              "  <tbody>\n",
              "    <tr>\n",
              "      <th>0</th>\n",
              "      <td>আমার খুব প্রিয় মডেল আমি খুব ভালো বাসি মিম আপু</td>\n",
              "      <td>1</td>\n",
              "    </tr>\n",
              "    <tr>\n",
              "      <th>1</th>\n",
              "      <td>ভাই সব আপনাদের খুব ভাল লাগছে</td>\n",
              "      <td>1</td>\n",
              "    </tr>\n",
              "    <tr>\n",
              "      <th>2</th>\n",
              "      <td>আপু তুমি অনেক ন্যচারাল সুন্দর</td>\n",
              "      <td>1</td>\n",
              "    </tr>\n",
              "    <tr>\n",
              "      <th>3</th>\n",
              "      <td>রাজশাহী শিরইলে অনেক রকমের পাখি আসে আমি দেখছি ...</td>\n",
              "      <td>1</td>\n",
              "    </tr>\n",
              "    <tr>\n",
              "      <th>4</th>\n",
              "      <td>তাদের কত সম্মান করি আমরা</td>\n",
              "      <td>1</td>\n",
              "    </tr>\n",
              "    <tr>\n",
              "      <th>5</th>\n",
              "      <td>ইন্নালিল্লাহে ওয়া ইন্নাইলাহি রাজিউন। আল্লাহ উ...</td>\n",
              "      <td>1</td>\n",
              "    </tr>\n",
              "    <tr>\n",
              "      <th>6</th>\n",
              "      <td>এদেশে যতই জনসংখ্যা বেশি হোক তারপরেও জীবন বাঁচ...</td>\n",
              "      <td>1</td>\n",
              "    </tr>\n",
              "    <tr>\n",
              "      <th>7</th>\n",
              "      <td>নতুন সিমে প্রথমবার টাকা রিচার্জে আপনি মিনিট ব...</td>\n",
              "      <td>1</td>\n",
              "    </tr>\n",
              "    <tr>\n",
              "      <th>8</th>\n",
              "      <td>বি বি সি কে অনেক ধন্যবাদ।</td>\n",
              "      <td>1</td>\n",
              "    </tr>\n",
              "    <tr>\n",
              "      <th>9</th>\n",
              "      <td>বাবুটা তার সাথে আবু হেবি</td>\n",
              "      <td>1</td>\n",
              "    </tr>\n",
              "  </tbody>\n",
              "</table>\n",
              "</div>"
            ],
            "text/plain": [
              "                                    Bangla_Sentences  sentiment\n",
              "0     আমার খুব প্রিয় মডেল আমি খুব ভালো বাসি মিম আপু           1\n",
              "1                      ভাই সব আপনাদের খুব ভাল লাগছে           1\n",
              "2                     আপু তুমি অনেক ন্যচারাল সুন্দর           1\n",
              "3   রাজশাহী শিরইলে অনেক রকমের পাখি আসে আমি দেখছি ...          1\n",
              "4                          তাদের কত সম্মান করি আমরা           1\n",
              "5   ইন্নালিল্লাহে ওয়া ইন্নাইলাহি রাজিউন। আল্লাহ উ...          1\n",
              "6   এদেশে যতই জনসংখ্যা বেশি হোক তারপরেও জীবন বাঁচ...          1\n",
              "7   নতুন সিমে প্রথমবার টাকা রিচার্জে আপনি মিনিট ব...          1\n",
              "8                         বি বি সি কে অনেক ধন্যবাদ।           1\n",
              "9                          বাবুটা তার সাথে আবু হেবি           1"
            ]
          },
          "metadata": {
            "tags": []
          },
          "execution_count": 125
        }
      ]
    },
    {
      "cell_type": "code",
      "metadata": {
        "id": "mk6Ier_c5Trw"
      },
      "source": [
        "train_data_array = []\n",
        "for i in range(len(label_data)):\n",
        "    train_data_array.append(label_data[\"Bangla_Sentences\"][i])\n",
        "\n",
        "train_data_list = [] \n",
        "for d in train_data_array:\n",
        "    x = d.split()\n",
        "    sentence_list = []\n",
        "    for y in x:\n",
        "        split_word = (y).split('|')\n",
        "        word = split_word[0]\n",
        "        sentence_list.append(word)\n",
        "    train_data_list.append(sentence_list)"
      ],
      "execution_count": null,
      "outputs": []
    },
    {
      "cell_type": "code",
      "metadata": {
        "id": "5eiasLf0fXWf",
        "colab": {
          "base_uri": "https://localhost:8080/",
          "height": 359
        },
        "outputId": "6afc47d7-b34b-4c78-e696-4f2c9b65fd44"
      },
      "source": [
        "label_neg_data.shape\n",
        "neg_sentiment=[0]*2000\n",
        "\n",
        "label_neg_data['sentiment']=neg_sentiment\n",
        "label_neg_data.head(10)"
      ],
      "execution_count": null,
      "outputs": [
        {
          "output_type": "execute_result",
          "data": {
            "text/html": [
              "<div>\n",
              "<style scoped>\n",
              "    .dataframe tbody tr th:only-of-type {\n",
              "        vertical-align: middle;\n",
              "    }\n",
              "\n",
              "    .dataframe tbody tr th {\n",
              "        vertical-align: top;\n",
              "    }\n",
              "\n",
              "    .dataframe thead th {\n",
              "        text-align: right;\n",
              "    }\n",
              "</style>\n",
              "<table border=\"1\" class=\"dataframe\">\n",
              "  <thead>\n",
              "    <tr style=\"text-align: right;\">\n",
              "      <th></th>\n",
              "      <th>Bangla_Sentences</th>\n",
              "      <th>sentiment</th>\n",
              "    </tr>\n",
              "  </thead>\n",
              "  <tbody>\n",
              "    <tr>\n",
              "      <th>0</th>\n",
              "      <td>জগন্নাথের শিক্ষার্থীরা এটা মেনে নিবে না। এটা ...</td>\n",
              "      <td>0</td>\n",
              "    </tr>\n",
              "    <tr>\n",
              "      <th>1</th>\n",
              "      <td>মাননীয় মহাপরিদর্শক পুলিশ আমাদেরকে ট্রাফিক পুল...</td>\n",
              "      <td>0</td>\n",
              "    </tr>\n",
              "    <tr>\n",
              "      <th>2</th>\n",
              "      <td>চুপ থাকার কোন সিস্টেম নাই যদি প্রান খুলে হাসত...</td>\n",
              "      <td>0</td>\n",
              "    </tr>\n",
              "    <tr>\n",
              "      <th>3</th>\n",
              "      <td>আবারও লেট হয়ছে সেকেন্ড মাত্র বাহ বাহ</td>\n",
              "      <td>0</td>\n",
              "    </tr>\n",
              "    <tr>\n",
              "      <th>4</th>\n",
              "      <td>ভাই সাংবাদিক পুলিশ যখন খারাপ কিছু করে তখন পুল...</td>\n",
              "      <td>0</td>\n",
              "    </tr>\n",
              "    <tr>\n",
              "      <th>5</th>\n",
              "      <td>আমার মতে এই তিন জনকে জেলে রেখে বোজানো হক পাখি...</td>\n",
              "      <td>0</td>\n",
              "    </tr>\n",
              "    <tr>\n",
              "      <th>6</th>\n",
              "      <td>এই শালাগুলোকে কাঁচা কঞ্চি দিয়ে পিটানো দরকার ত...</td>\n",
              "      <td>0</td>\n",
              "    </tr>\n",
              "    <tr>\n",
              "      <th>7</th>\n",
              "      <td>কিছু কিছু পাক প্রেমি কথিত বাংলাদেশীআদতে বিহার...</td>\n",
              "      <td>0</td>\n",
              "    </tr>\n",
              "    <tr>\n",
              "      <th>8</th>\n",
              "      <td>হ্যাঁ তাই ছোটভাইকে হত্যা করা উচিত সবদিক থেকে ...</td>\n",
              "      <td>0</td>\n",
              "    </tr>\n",
              "    <tr>\n",
              "      <th>9</th>\n",
              "      <td>পাকিস্তানের পাশে আপনি অবশ্যই থাকবেন। পিতার দেশ...</td>\n",
              "      <td>0</td>\n",
              "    </tr>\n",
              "  </tbody>\n",
              "</table>\n",
              "</div>"
            ],
            "text/plain": [
              "                                    Bangla_Sentences  sentiment\n",
              "0   জগন্নাথের শিক্ষার্থীরা এটা মেনে নিবে না। এটা ...          0\n",
              "1   মাননীয় মহাপরিদর্শক পুলিশ আমাদেরকে ট্রাফিক পুল...          0\n",
              "2   চুপ থাকার কোন সিস্টেম নাই যদি প্রান খুলে হাসত...          0\n",
              "3              আবারও লেট হয়ছে সেকেন্ড মাত্র বাহ বাহ           0\n",
              "4   ভাই সাংবাদিক পুলিশ যখন খারাপ কিছু করে তখন পুল...          0\n",
              "5   আমার মতে এই তিন জনকে জেলে রেখে বোজানো হক পাখি...          0\n",
              "6   এই শালাগুলোকে কাঁচা কঞ্চি দিয়ে পিটানো দরকার ত...          0\n",
              "7   কিছু কিছু পাক প্রেমি কথিত বাংলাদেশীআদতে বিহার...          0\n",
              "8   হ্যাঁ তাই ছোটভাইকে হত্যা করা উচিত সবদিক থেকে ...          0\n",
              "9  পাকিস্তানের পাশে আপনি অবশ্যই থাকবেন। পিতার দেশ...          0"
            ]
          },
          "metadata": {
            "tags": []
          },
          "execution_count": 126
        }
      ]
    },
    {
      "cell_type": "code",
      "metadata": {
        "id": "zZvNXjZHiYF1"
      },
      "source": [
        "label_data = pd.concat([label_neg_data,label_pos_data], ignore_index=True)"
      ],
      "execution_count": null,
      "outputs": []
    },
    {
      "cell_type": "code",
      "metadata": {
        "colab": {
          "base_uri": "https://localhost:8080/",
          "height": 359
        },
        "id": "8iLVbfO9ikCA",
        "outputId": "e3a4636f-fd14-40b3-cbcf-6acd2ef3d5bf"
      },
      "source": [
        "label_data.tail(10)"
      ],
      "execution_count": null,
      "outputs": [
        {
          "output_type": "execute_result",
          "data": {
            "text/html": [
              "<div>\n",
              "<style scoped>\n",
              "    .dataframe tbody tr th:only-of-type {\n",
              "        vertical-align: middle;\n",
              "    }\n",
              "\n",
              "    .dataframe tbody tr th {\n",
              "        vertical-align: top;\n",
              "    }\n",
              "\n",
              "    .dataframe thead th {\n",
              "        text-align: right;\n",
              "    }\n",
              "</style>\n",
              "<table border=\"1\" class=\"dataframe\">\n",
              "  <thead>\n",
              "    <tr style=\"text-align: right;\">\n",
              "      <th></th>\n",
              "      <th>Bangla_Sentences</th>\n",
              "      <th>sentiment</th>\n",
              "    </tr>\n",
              "  </thead>\n",
              "  <tbody>\n",
              "    <tr>\n",
              "      <th>3990</th>\n",
              "      <td>তোমার বাবা সাথে তোলা ছবি খুব সুন্দর</td>\n",
              "      <td>1</td>\n",
              "    </tr>\n",
              "    <tr>\n",
              "      <th>3991</th>\n",
              "      <td>চেয়েছিলাম পাঁচ উইকেট সেটা পেয়েছো এবার ব্যাট হ...</td>\n",
              "      <td>1</td>\n",
              "    </tr>\n",
              "    <tr>\n",
              "      <th>3992</th>\n",
              "      <td>এগিয়ে যাও সাকিব ভাই এগিয়ে যাক বাংলাদেশ।</td>\n",
              "      <td>1</td>\n",
              "    </tr>\n",
              "    <tr>\n",
              "      <th>3993</th>\n",
              "      <td>স্থান পরিবতন করা গেলে ভাল হয়।</td>\n",
              "      <td>1</td>\n",
              "    </tr>\n",
              "    <tr>\n",
              "      <th>3994</th>\n",
              "      <td>আমরা রাষ্টহিসাবে ছোট হলেও আমারা মুসলিম জাতি ব...</td>\n",
              "      <td>1</td>\n",
              "    </tr>\n",
              "    <tr>\n",
              "      <th>3995</th>\n",
              "      <td>নয়া দিগন্তকে অনুরোধ আমাদের কথাগুলো আপনারা গুর...</td>\n",
              "      <td>1</td>\n",
              "    </tr>\n",
              "    <tr>\n",
              "      <th>3996</th>\n",
              "      <td>জাহিদ ইমন আপনার মতামতটি আমাদের সাথে শেয়ার করা...</td>\n",
              "      <td>1</td>\n",
              "    </tr>\n",
              "    <tr>\n",
              "      <th>3997</th>\n",
              "      <td>একটা মেয়ের জন্যে তোমাকে পারফেক্ট হওয়ার কোন ...</td>\n",
              "      <td>1</td>\n",
              "    </tr>\n",
              "    <tr>\n",
              "      <th>3998</th>\n",
              "      <td>এ ঘটনা বার বার ঘটছে । কি ভাবে থামনো যায় তার চ...</td>\n",
              "      <td>1</td>\n",
              "    </tr>\n",
              "    <tr>\n",
              "      <th>3999</th>\n",
              "      <td>অদের খাবার আর সব কিছু দিয়া সাহায্য করা</td>\n",
              "      <td>1</td>\n",
              "    </tr>\n",
              "  </tbody>\n",
              "</table>\n",
              "</div>"
            ],
            "text/plain": [
              "                                       Bangla_Sentences  sentiment\n",
              "3990               তোমার বাবা সাথে তোলা ছবি খুব সুন্দর           1\n",
              "3991   চেয়েছিলাম পাঁচ উইকেট সেটা পেয়েছো এবার ব্যাট হ...          1\n",
              "3992           এগিয়ে যাও সাকিব ভাই এগিয়ে যাক বাংলাদেশ।           1\n",
              "3993                     স্থান পরিবতন করা গেলে ভাল হয়।           1\n",
              "3994   আমরা রাষ্টহিসাবে ছোট হলেও আমারা মুসলিম জাতি ব...          1\n",
              "3995   নয়া দিগন্তকে অনুরোধ আমাদের কথাগুলো আপনারা গুর...          1\n",
              "3996   জাহিদ ইমন আপনার মতামতটি আমাদের সাথে শেয়ার করা...          1\n",
              "3997   একটা মেয়ের জন্যে তোমাকে পারফেক্ট হওয়ার কোন ...          1\n",
              "3998   এ ঘটনা বার বার ঘটছে । কি ভাবে থামনো যায় তার চ...          1\n",
              "3999            অদের খাবার আর সব কিছু দিয়া সাহায্য করা           1"
            ]
          },
          "metadata": {
            "tags": []
          },
          "execution_count": 149
        }
      ]
    },
    {
      "cell_type": "code",
      "metadata": {
        "id": "UBbgE9Coidlu"
      },
      "source": [
        "label_data.to_csv('/content/processed_label_data.txt')"
      ],
      "execution_count": null,
      "outputs": []
    },
    {
      "cell_type": "code",
      "metadata": {
        "id": "HOPni58roqyU"
      },
      "source": [
        "x_label_data=label_data['Bangla_Sentences']\n",
        "y_label_data=label_data['sentiment']"
      ],
      "execution_count": null,
      "outputs": []
    },
    {
      "cell_type": "code",
      "metadata": {
        "colab": {
          "base_uri": "https://localhost:8080/"
        },
        "id": "jnjI-qJAo5ya",
        "outputId": "58de7abc-68bc-4e69-cc50-401086f3c4d6"
      },
      "source": [
        "print(x_label_data)"
      ],
      "execution_count": null,
      "outputs": [
        {
          "output_type": "stream",
          "text": [
            "0        জগন্নাথের শিক্ষার্থীরা এটা মেনে নিবে না। এটা ...\n",
            "1        মাননীয় মহাপরিদর্শক পুলিশ আমাদেরকে ট্রাফিক পুল...\n",
            "2        চুপ থাকার কোন সিস্টেম নাই যদি প্রান খুলে হাসত...\n",
            "3                   আবারও লেট হয়ছে সেকেন্ড মাত্র বাহ বাহ \n",
            "4        ভাই সাংবাদিক পুলিশ যখন খারাপ কিছু করে তখন পুল...\n",
            "                              ...                        \n",
            "3995     নয়া দিগন্তকে অনুরোধ আমাদের কথাগুলো আপনারা গুর...\n",
            "3996     জাহিদ ইমন আপনার মতামতটি আমাদের সাথে শেয়ার করা...\n",
            "3997     একটা মেয়ের জন্যে তোমাকে পারফেক্ট হওয়ার কোন ...\n",
            "3998     এ ঘটনা বার বার ঘটছে । কি ভাবে থামনো যায় তার চ...\n",
            "3999              অদের খাবার আর সব কিছু দিয়া সাহায্য করা \n",
            "Name: Bangla_Sentences, Length: 4000, dtype: object\n"
          ],
          "name": "stdout"
        }
      ]
    },
    {
      "cell_type": "code",
      "metadata": {
        "id": "phMae49jkiLk"
      },
      "source": [
        "from sklearn.model_selection import train_test_split\n",
        "\n",
        "x_label_train_data,x_label_test_data,y_label_train_data,y_label_test_data=train_test_split(x_label_data,y_label_data,test_size=0.2, stratify=y_label_data)"
      ],
      "execution_count": null,
      "outputs": []
    },
    {
      "cell_type": "code",
      "metadata": {
        "id": "cqNmMo-X7fhY"
      },
      "source": [
        "from sklearn.model_selection import train_test_split\n",
        "\n",
        "x_unlabel_train_data,x_unlabel_test_data=train_test_split(unlabel_data,test_size=0.2)"
      ],
      "execution_count": null,
      "outputs": []
    },
    {
      "cell_type": "code",
      "metadata": {
        "colab": {
          "base_uri": "https://localhost:8080/",
          "height": 35
        },
        "id": "-heT6cdyqbVF",
        "outputId": "3cf27519-18f9-4d58-d25b-f003b0a0b2a9"
      },
      "source": [
        "x_label_train_data[2]"
      ],
      "execution_count": null,
      "outputs": [
        {
          "output_type": "execute_result",
          "data": {
            "application/vnd.google.colaboratory.intrinsic+json": {
              "type": "string"
            },
            "text/plain": [
              "' চুপ থাকার কোন সিস্টেম নাই যদি প্রান খুলে হাসতে চান তাহলে লাইক দেন আমাদের '"
            ]
          },
          "metadata": {
            "tags": []
          },
          "execution_count": 192
        }
      ]
    },
    {
      "cell_type": "code",
      "metadata": {
        "id": "3GoPfe6qUj50"
      },
      "source": [
        "from sklearn.feature_extraction.text import CountVectorizer"
      ],
      "execution_count": null,
      "outputs": []
    },
    {
      "cell_type": "code",
      "metadata": {
        "id": "s6ZOAcLDUocW"
      },
      "source": [
        "vectorizer = CountVectorizer()\n",
        "x_label_train_vectors = vectorizer.fit_transform(x_label_train_data)\n",
        "\n",
        "vectorizer = CountVectorizer()\n",
        "x_label_test_vectors = vectorizer.fit_transform(x_label_test_data)\n",
        "\n"
      ],
      "execution_count": null,
      "outputs": []
    },
    {
      "cell_type": "code",
      "metadata": {
        "id": "vk132J567-QN"
      },
      "source": [
        "vectorizer = CountVectorizer()\n",
        "x_unlabel_test_vectors = vectorizer.fit_transform(x_unlabel_test_data)\n",
        "\n",
        "vectorizer = CountVectorizer()\n",
        "x_unlabel_train_vectors = vectorizer.fit_transform(x_unlabel_train_data)"
      ],
      "execution_count": null,
      "outputs": []
    },
    {
      "cell_type": "code",
      "metadata": {
        "colab": {
          "base_uri": "https://localhost:8080/"
        },
        "id": "R2IbJMeBl8EM",
        "outputId": "5265a113-389e-4f79-fb77-058c02bd3354"
      },
      "source": [
        "print(x_label_train_vectors.shape)\n",
        "print(x_label_test_vectors.shape)"
      ],
      "execution_count": null,
      "outputs": [
        {
          "output_type": "stream",
          "text": [
            "(3200, 1909)\n",
            "(800, 994)\n"
          ],
          "name": "stdout"
        }
      ]
    },
    {
      "cell_type": "code",
      "metadata": {
        "colab": {
          "base_uri": "https://localhost:8080/"
        },
        "id": "65N6J9Ok7_es",
        "outputId": "e0b980cd-ce6a-4703-e3ee-5dc4a83e427b"
      },
      "source": [
        "print(x_label_test_vectors.toarray())"
      ],
      "execution_count": null,
      "outputs": [
        {
          "output_type": "stream",
          "text": [
            "[[0 0 0 ... 0 0 0]\n",
            " [0 0 0 ... 0 0 0]\n",
            " [0 0 0 ... 0 0 0]\n",
            " ...\n",
            " [0 0 0 ... 0 0 0]\n",
            " [0 0 0 ... 0 0 0]\n",
            " [0 0 0 ... 0 0 0]]\n"
          ],
          "name": "stdout"
        }
      ]
    },
    {
      "cell_type": "code",
      "metadata": {
        "id": "Crcw3teN8FDv"
      },
      "source": [
        "print(x_label_test_vectors.toarray()[13])"
      ],
      "execution_count": null,
      "outputs": []
    },
    {
      "cell_type": "code",
      "metadata": {
        "id": "9tnEniD1mSss"
      },
      "source": [
        "from sklearn.tree import DecisionTreeClassifier"
      ],
      "execution_count": null,
      "outputs": []
    },
    {
      "cell_type": "code",
      "metadata": {
        "colab": {
          "base_uri": "https://localhost:8080/"
        },
        "id": "HOK-F0CYmbdj",
        "outputId": "e36cd6d3-65da-43e3-d597-e76a8c102178"
      },
      "source": [
        "model1 = DecisionTreeClassifier()\n",
        "model1.fit(x_label_train_vectors,y_label_train_data)"
      ],
      "execution_count": null,
      "outputs": [
        {
          "output_type": "execute_result",
          "data": {
            "text/plain": [
              "DecisionTreeClassifier(ccp_alpha=0.0, class_weight=None, criterion='gini',\n",
              "                       max_depth=None, max_features=None, max_leaf_nodes=None,\n",
              "                       min_impurity_decrease=0.0, min_impurity_split=None,\n",
              "                       min_samples_leaf=1, min_samples_split=2,\n",
              "                       min_weight_fraction_leaf=0.0, presort='deprecated',\n",
              "                       random_state=None, splitter='best')"
            ]
          },
          "metadata": {
            "tags": []
          },
          "execution_count": 205
        }
      ]
    },
    {
      "cell_type": "code",
      "metadata": {
        "id": "QMmF85MB8RXx"
      },
      "source": [
        "predDT = model1.predict(x_unlabel_train_vectors)"
      ],
      "execution_count": null,
      "outputs": []
    }
  ]
}